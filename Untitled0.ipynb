{
 "metadata": {
  "name": ""
 },
 "nbformat": 3,
 "nbformat_minor": 0,
 "worksheets": [
  {
   "cells": [
    {
     "cell_type": "code",
     "collapsed": false,
     "input": [
      "class Top(object):\n",
      "    num = 3\n",
      "    def __init__(self):\n",
      "        pass\n",
      "    \n",
      "    @classmethod\n",
      "    def get(cls):\n",
      "        return cls.num\n",
      "    \n",
      "class Sub(Top):\n",
      "    num = 5\n",
      "    def __init__(self):\n",
      "        #self.num = 5\n",
      "        super(Sub, self).__init__()\n",
      "\n",
      "class Sub2(Top):\n",
      "    def __init__(self):\n",
      "        super(Sub2, self).__init__()"
     ],
     "language": "python",
     "metadata": {},
     "outputs": [],
     "prompt_number": 37
    },
    {
     "cell_type": "code",
     "collapsed": false,
     "input": [
      "s = Sub()\n",
      "s.get()"
     ],
     "language": "python",
     "metadata": {},
     "outputs": [
      {
       "metadata": {},
       "output_type": "pyout",
       "prompt_number": 38,
       "text": [
        "5"
       ]
      }
     ],
     "prompt_number": 38
    },
    {
     "cell_type": "code",
     "collapsed": false,
     "input": [
      "t = Sub2()\n",
      "t.get()"
     ],
     "language": "python",
     "metadata": {},
     "outputs": [
      {
       "metadata": {},
       "output_type": "pyout",
       "prompt_number": 39,
       "text": [
        "3"
       ]
      }
     ],
     "prompt_number": 39
    },
    {
     "cell_type": "code",
     "collapsed": false,
     "input": [
      "class AttrDict(dict):\n",
      "    \"\"\"\n",
      "    A dict that sets the __gettattr__ method so a['x'] <==> a.x\n",
      "    Here intended for use as a base to all other info classes.\n",
      "    \"\"\"\n",
      "    def __getattr__(self, item):\n",
      "        \"\"\"\n",
      "        Exposes the dictionary members as properties. This method is only\n",
      "        called when __getattribute__ fails, so default dict object properties\n",
      "        should remain exposed.\n",
      "        \"\"\"\n",
      "        return super(AttrDict, self).__getitem__(item)\n",
      "    \n",
      "    def __setattr__(self, item, value):\n",
      "        \"\"\"\n",
      "        Sets an item to the class such that a.x = 1 <==> a['x'] = 1\n",
      "        \"\"\"\n",
      "        super(AttrDict, self).__setitem__(item, value)"
     ],
     "language": "python",
     "metadata": {},
     "outputs": [],
     "prompt_number": 1
    },
    {
     "cell_type": "code",
     "collapsed": false,
     "input": [
      "class BttrDict(dict):\n",
      "\t\"\"\"A dictionary with attribute-style access. It maps attribute access to\n",
      "\tthe real dictionary.  \"\"\"\n",
      "\tdef __init__(self, init={}):\n",
      "\t\tdict.__init__(self, init)\n",
      "\n",
      "\tdef __getstate__(self):\n",
      "\t\treturn self.__dict__.items()\n",
      "\n",
      "\tdef __setstate__(self, items):\n",
      "\t\tfor key, val in items:\n",
      "\t\t\tself.__dict__[key] = val\n",
      "\n",
      "\tdef __repr__(self):\n",
      "\t\treturn \"%s(%s)\" % (self.__class__.__name__, dict.__repr__(self))\n",
      "\n",
      "\tdef __setitem__(self, key, value):\n",
      "\t\treturn super(BttrDict, self).__setitem__(key, value)\n",
      "\n",
      "\tdef __getitem__(self, name):\n",
      "\t\treturn super(BttrDict, self).__getitem__(name)\n",
      "\n",
      "\tdef __delitem__(self, name):\n",
      "\t\treturn super(BttrDict, self).__delitem__(name)\n",
      "\n",
      "\t__getattr__ = __getitem__\n",
      "\t__setattr__ = __setitem__\n",
      "\n",
      "\tdef copy(self):\n",
      "\t\tch = BttrDict(self)\n",
      "\t\treturn ch"
     ],
     "language": "python",
     "metadata": {},
     "outputs": [],
     "prompt_number": 26
    },
    {
     "cell_type": "code",
     "collapsed": false,
     "input": [
      "class ADict(AttrDict):\n",
      "    ''' ADict's docstring '''\n",
      "    def __init__(self, a, b, c):\n",
      "        super(ADict, self).__init__()\n",
      "        self.apple = a\n",
      "        self.banana = b\n",
      "        self.cherry = c\n",
      "        self.num = 42\n",
      "        self.pi = 3.14159\n",
      "        \n",
      "class BDict(BttrDict):\n",
      "    ''' BDict's docstring '''\n",
      "    def __init__(self, a, b, c, **d):\n",
      "        super(BDict, self).__init__(**d)\n",
      "        self.apple = a\n",
      "        self.banana = b\n",
      "        self.cherry = c\n",
      "        self.num = 42\n",
      "        self.pi = 3.14159"
     ],
     "language": "python",
     "metadata": {},
     "outputs": [],
     "prompt_number": 56
    },
    {
     "cell_type": "code",
     "collapsed": false,
     "input": [
      "a = AttrDict({\n",
      "          'foo': 1,\n",
      "          'bar': 2,\n",
      "})\n",
      "b = BttrDict({\n",
      "          'foo': 3,\n",
      "          'bar': 4,\n",
      "    })\n",
      "\n",
      "import pickle\n",
      "ad = ADict('apple', 'banana', 'cherry')\n",
      "bd = BDict('adam', 'bruce', 'cindy')"
     ],
     "language": "python",
     "metadata": {},
     "outputs": [],
     "prompt_number": 62
    },
    {
     "cell_type": "code",
     "collapsed": false,
     "input": [
      "bd.pop('apple')"
     ],
     "language": "python",
     "metadata": {},
     "outputs": [
      {
       "metadata": {},
       "output_type": "pyout",
       "prompt_number": 68,
       "text": [
        "'adam'"
       ]
      }
     ],
     "prompt_number": 68
    },
    {
     "cell_type": "code",
     "collapsed": false,
     "input": [
      "bd.__doc__"
     ],
     "language": "python",
     "metadata": {},
     "outputs": [
      {
       "metadata": {},
       "output_type": "pyout",
       "prompt_number": 64,
       "text": [
        "\" BDict's docstring \""
       ]
      }
     ],
     "prompt_number": 64
    },
    {
     "cell_type": "code",
     "collapsed": false,
     "input": [],
     "language": "python",
     "metadata": {},
     "outputs": []
    }
   ],
   "metadata": {}
  }
 ]
}