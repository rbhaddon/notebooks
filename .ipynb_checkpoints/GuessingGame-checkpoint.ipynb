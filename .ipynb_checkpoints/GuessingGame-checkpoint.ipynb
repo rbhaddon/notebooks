{
 "metadata": {
  "name": ""
 },
 "nbformat": 3,
 "nbformat_minor": 0,
 "worksheets": [
  {
   "cells": [
    {
     "cell_type": "code",
     "collapsed": false,
     "input": [
      "import math\n",
      "from random import randrange"
     ],
     "language": "python",
     "metadata": {},
     "outputs": [],
     "prompt_number": 10
    },
    {
     "cell_type": "code",
     "collapsed": false,
     "input": [
      "class GuessingGame(object):\n",
      "    def __init__(self, num):\n",
      "        self.max_num = num\n",
      "        self.limit = int(math.ceil(math.log(num * 10)))\n",
      "        \n",
      "        self.guesses = 0\n",
      "        self.secret = randrange(num)\n",
      "        self.finished = False\n",
      "        self.victory = False\n",
      "             \n",
      "    def _check_guess(self, guess):\n",
      "        if guess < self.secret:\n",
      "            response = \"Higher\"\n",
      "        elif guess > self.secret:\n",
      "            response = \"Lower\"\n",
      "        else:\n",
      "            response = \"Correct!\"\n",
      "            self.finished = True\n",
      "            self.victory = True\n",
      "        return response\n",
      "    \n",
      "    def handle_guess(self, raw_guess):\n",
      "        if not self.finished:\n",
      "            if self.guesses < self.limit:\n",
      "                try:\n",
      "                    guess = int(raw_guess)\n",
      "                except ValueError:\n",
      "                    pass\n",
      "                else:\n",
      "                    self.guesses += 1\n",
      "                    if 0 <= guess < self.max_num:\n",
      "                        print self._check_guess(guess)\n",
      "            else:\n",
      "                self.finished = True\n",
      "                self.victory = False\n",
      "        else:\n",
      "            print \"You need to start a new game.\"\n",
      "        print \"Raw:\", raw_guess, \"Finished:\", self.finished, \"Guesses Rem:\", self.limit - self.guesses, \"Victory:\", self.victory\n",
      "        \n",
      "    "
     ],
     "language": "python",
     "metadata": {},
     "outputs": [],
     "prompt_number": 78
    },
    {
     "cell_type": "code",
     "collapsed": false,
     "input": [
      "gg = GuessingGame(100)\n",
      "gg.secret"
     ],
     "language": "python",
     "metadata": {},
     "outputs": [
      {
       "metadata": {},
       "output_type": "pyout",
       "prompt_number": 79,
       "text": [
        "34"
       ]
      }
     ],
     "prompt_number": 79
    },
    {
     "cell_type": "code",
     "collapsed": false,
     "input": [
      "gg.handle_guess('foo')\n",
      "gg.handle_guess(-1)\n",
      "gg.handle_guess(101)"
     ],
     "language": "python",
     "metadata": {},
     "outputs": [
      {
       "output_type": "stream",
       "stream": "stdout",
       "text": [
        "Raw: foo Finished: False Guesses Rem: 7 Victory: False\n",
        "Raw: -1 Finished: False Guesses Rem: 7 Victory: False\n",
        "Raw: 101 Finished: False Guesses Rem: 7 Victory: False\n"
       ]
      }
     ],
     "prompt_number": 80
    },
    {
     "cell_type": "code",
     "collapsed": false,
     "input": [
      "gg.handle_guess('50'); gg.guesses\n",
      "gg.handle_guess('25'); gg.guesses\n",
      "gg.handle_guess('12'); gg.guesses\n",
      "gg.handle_guess('6'); gg.guesses\n",
      "gg.handle_guess('3'); gg.guesses\n",
      "gg.handle_guess('2'); gg.guesses\n",
      "gg.handle_guess('1'); gg.guesses\n",
      "gg.handle_guess('0'); gg.guesses\n",
      "gg.handle_guess('100'); gg.guesses"
     ],
     "language": "python",
     "metadata": {},
     "outputs": [
      {
       "output_type": "stream",
       "stream": "stdout",
       "text": [
        "Lower\n",
        "Raw: 50 Finished: False Guesses Rem: 6 Victory: False\n",
        "Higher\n",
        "Raw: 25 Finished: False Guesses Rem: 5 Victory: False\n",
        "Higher\n",
        "Raw: 12 Finished: False Guesses Rem: 4 Victory: False\n",
        "Higher\n",
        "Raw: 6 Finished: False Guesses Rem: 3 Victory: False\n",
        "Higher\n",
        "Raw: 3 Finished: False Guesses Rem: 2 Victory: False\n",
        "Higher\n",
        "Raw: 2 Finished: False Guesses Rem: 1 Victory: False\n",
        "Higher\n",
        "Raw: 1 Finished: False Guesses Rem: 0 Victory: False\n",
        "Raw: 0 Finished: True Guesses Rem: 0 Victory: False\n",
        "You need to start a new game.\n",
        "Raw: 100 Finished: True Guesses Rem: 0 Victory: False\n"
       ]
      },
      {
       "metadata": {},
       "output_type": "pyout",
       "prompt_number": 81,
       "text": [
        "7"
       ]
      }
     ],
     "prompt_number": 81
    },
    {
     "cell_type": "code",
     "collapsed": false,
     "input": [
      "my_str = \"Yadda %s yadda!\"\n",
      "print my_str % 'foo'"
     ],
     "language": "python",
     "metadata": {},
     "outputs": [
      {
       "output_type": "stream",
       "stream": "stdout",
       "text": [
        "Yadda foo yadda!\n"
       ]
      }
     ],
     "prompt_number": 83
    },
    {
     "cell_type": "code",
     "collapsed": false,
     "input": [
      "print 1 % 3\n",
      "print 2 % 3\n",
      "print 3 % 3\n",
      "print 4 % 3"
     ],
     "language": "python",
     "metadata": {},
     "outputs": [
      {
       "output_type": "stream",
       "stream": "stdout",
       "text": [
        "1\n",
        "2\n",
        "0\n",
        "1\n"
       ]
      }
     ],
     "prompt_number": 86
    },
    {
     "cell_type": "code",
     "collapsed": false,
     "input": [],
     "language": "python",
     "metadata": {},
     "outputs": []
    }
   ],
   "metadata": {}
  }
 ]
}