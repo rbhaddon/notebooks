{
 "metadata": {
  "name": ""
 },
 "nbformat": 3,
 "nbformat_minor": 0,
 "worksheets": [
  {
   "cells": [
    {
     "cell_type": "code",
     "collapsed": false,
     "input": [
      "import math\n",
      "from random import randrange"
     ],
     "language": "python",
     "metadata": {},
     "outputs": [],
     "prompt_number": 87
    },
    {
     "cell_type": "code",
     "collapsed": false,
     "input": [
      "class GuessingGame(object):\n",
      "    def __init__(self, num):\n",
      "        self.max_num = num\n",
      "        self.limit = int(math.ceil(math.log(num * 10)))\n",
      "        \n",
      "        self.guesses = 0\n",
      "        self.secret = randrange(num)\n",
      "        self.secret = 75\n",
      "        self.finished = False\n",
      "        self.victory = False\n",
      "             \n",
      "    def check_guess(self, guess):\n",
      "        if guess < self.secret:\n",
      "            response = \"Higher\"\n",
      "        elif guess > self.secret:\n",
      "            response = \"Lower\"\n",
      "        else:\n",
      "            response = \"Correct!\"\n",
      "            self.finished = True\n",
      "            self.victory = True\n",
      "        return response\n",
      "    \n",
      "    def handle_guess(self, guess):\n",
      "        response = self.check_guess(guess)\n",
      "        self.guesses += 1\n",
      "        if self.guesses == self.limit:\n",
      "            self.finished = True\n",
      "        return response\n",
      "        \n",
      "    def play(self, raw_guess):\n",
      "        response = None\n",
      "        try:\n",
      "            guess = int(raw_guess)\n",
      "        except ValueError:\n",
      "            pass\n",
      "        if 0 <= guess < self.max_num:\n",
      "            response = self.handle_guess(guess)\n",
      "        return response\n",
      "    "
     ],
     "language": "python",
     "metadata": {},
     "outputs": [],
     "prompt_number": 115
    },
    {
     "cell_type": "code",
     "collapsed": false,
     "input": [
      "gg = GuessingGame(100)\n",
      "gg.secret"
     ],
     "language": "python",
     "metadata": {},
     "outputs": [
      {
       "metadata": {},
       "output_type": "pyout",
       "prompt_number": 116,
       "text": [
        "75"
       ]
      }
     ],
     "prompt_number": 116
    },
    {
     "cell_type": "code",
     "collapsed": false,
     "input": [
      "print gg.play('1'), gg.finished\n",
      "print gg.play('2'), gg.finished\n",
      "print gg.play('3'), gg.finished\n",
      "print gg.play('4'), gg.finished\n",
      "print gg.play('5'), gg.finished\n",
      "print gg.play('6'), gg.finished\n",
      "print gg.play('7'), gg.finished\n",
      "print gg.play('8'), gg.finished"
     ],
     "language": "python",
     "metadata": {},
     "outputs": [
      {
       "output_type": "stream",
       "stream": "stdout",
       "text": [
        "Higher False\n",
        "Higher False\n",
        "Higher False\n",
        "Higher False\n",
        "Higher False\n",
        "Higher False\n",
        "Higher True\n",
        "Higher True\n"
       ]
      }
     ],
     "prompt_number": 117
    },
    {
     "cell_type": "code",
     "collapsed": false,
     "input": [
      "print gg.guesses, gg.finished, gg.victory"
     ],
     "language": "python",
     "metadata": {},
     "outputs": [
      {
       "output_type": "stream",
       "stream": "stdout",
       "text": [
        "8 True False\n"
       ]
      }
     ],
     "prompt_number": 114
    },
    {
     "cell_type": "code",
     "collapsed": false,
     "input": [
      "(3 - None) % 5"
     ],
     "language": "python",
     "metadata": {},
     "outputs": [
      {
       "ename": "TypeError",
       "evalue": "unsupported operand type(s) for -: 'int' and 'NoneType'",
       "output_type": "pyerr",
       "traceback": [
        "\u001b[1;31m---------------------------------------------------------------------------\u001b[0m\n\u001b[1;31mTypeError\u001b[0m                                 Traceback (most recent call last)",
        "\u001b[1;32m<ipython-input-118-0ca1347f609b>\u001b[0m in \u001b[0;36m<module>\u001b[1;34m()\u001b[0m\n\u001b[1;32m----> 1\u001b[1;33m \u001b[1;33m(\u001b[0m\u001b[1;36m3\u001b[0m \u001b[1;33m-\u001b[0m \u001b[0mNone\u001b[0m\u001b[1;33m)\u001b[0m \u001b[1;33m%\u001b[0m \u001b[1;36m5\u001b[0m\u001b[1;33m\u001b[0m\u001b[0m\n\u001b[0m",
        "\u001b[1;31mTypeError\u001b[0m: unsupported operand type(s) for -: 'int' and 'NoneType'"
       ]
      }
     ],
     "prompt_number": 118
    },
    {
     "cell_type": "code",
     "collapsed": false,
     "input": [
      "(3 - 'hello you') % 5"
     ],
     "language": "python",
     "metadata": {},
     "outputs": [
      {
       "ename": "TypeError",
       "evalue": "unsupported operand type(s) for -: 'int' and 'str'",
       "output_type": "pyerr",
       "traceback": [
        "\u001b[1;31m---------------------------------------------------------------------------\u001b[0m\n\u001b[1;31mTypeError\u001b[0m                                 Traceback (most recent call last)",
        "\u001b[1;32m<ipython-input-119-83bdeb611da4>\u001b[0m in \u001b[0;36m<module>\u001b[1;34m()\u001b[0m\n\u001b[1;32m----> 1\u001b[1;33m \u001b[1;33m(\u001b[0m\u001b[1;36m3\u001b[0m \u001b[1;33m-\u001b[0m \u001b[1;34m'hello you'\u001b[0m\u001b[1;33m)\u001b[0m \u001b[1;33m%\u001b[0m \u001b[1;36m5\u001b[0m\u001b[1;33m\u001b[0m\u001b[0m\n\u001b[0m",
        "\u001b[1;31mTypeError\u001b[0m: unsupported operand type(s) for -: 'int' and 'str'"
       ]
      }
     ],
     "prompt_number": 119
    },
    {
     "cell_type": "code",
     "collapsed": false,
     "input": [],
     "language": "python",
     "metadata": {},
     "outputs": []
    }
   ],
   "metadata": {}
  }
 ]
}