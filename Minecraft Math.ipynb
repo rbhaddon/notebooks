{
 "metadata": {
  "name": ""
 },
 "nbformat": 3,
 "nbformat_minor": 0,
 "worksheets": [
  {
   "cells": [
    {
     "cell_type": "heading",
     "level": 2,
     "metadata": {},
     "source": [
      "Mining with pymclevel!"
     ]
    },
    {
     "cell_type": "code",
     "collapsed": false,
     "input": [
      "import pymclevel\n",
      "import time\n",
      "\n",
      "world_file = r\"E:\\Games\\Minecraft\\Snapshots\\.minecraft\\saves\\T's Snappy Plop\\level.dat\"\n",
      "level = pymclevel.fromFile(world_file, True, True)\n",
      "ore_ids = [14, 15, 16, 21, 56, 73, 74, 129] # just the good stuff"
     ],
     "language": "python",
     "metadata": {},
     "outputs": [],
     "prompt_number": 37
    },
    {
     "cell_type": "code",
     "collapsed": false,
     "input": [
      "# player 0' information\n",
      "p0_name = level.players[0]\n",
      "p0_pos = level.getPlayerPosition(p0_name)\n",
      "p0_x = int(p0_pos[0])\n",
      "p0_y = int(p0_pos[1])\n",
      "p0_z = int(p0_pos[2])"
     ],
     "language": "python",
     "metadata": {},
     "outputs": [],
     "prompt_number": 38
    },
    {
     "cell_type": "code",
     "collapsed": false,
     "input": [
      "# What's beneath p0's feet?\n",
      "# Averages around 22k blocks/second on Numenor\n",
      "ore_counts = {}\n",
      "step = 128\n",
      "search_blocks = (step * 2)**2 * 8\n",
      "print \"Search %d blocks.  May take some time!\" % search_blocks\n",
      "start_time = time.time()\n",
      "for x in xrange(p0_x - step, p0_x + step):\n",
      "     for z in xrange(p0_z - step, p0_z + step):\n",
      "         for y in xrange(5,13):\n",
      "             block = level.blockAt(x, y, z)\n",
      "             if block in ore_ids:\n",
      "                 name = level.materials.get(block).yaml['name']\n",
      "                 ore_counts[name] = ore_counts.get(name, 0) + 1\n",
      "                 # Emerald is so rare, let's call it out:\n",
      "                 if \"Emerald\" in name:\n",
      "                        print \"\\tFound %s at %3d, %3d, %3d!\" % (name, x, y, z)\n",
      "elapsed_time = time.time() - start_time\n",
      "print \"Finished in %5.2fs (%5.1f blocks/s)\" % (elapsed_time, search_blocks/elapsed_time)\n",
      "print ore_counts"
     ],
     "language": "python",
     "metadata": {},
     "outputs": [
      {
       "output_type": "stream",
       "stream": "stdout",
       "text": [
        "Search 524288 blocks.  May take some time!\n",
        "\tFound Emerald Ore at 397,  12, 380!"
       ]
      },
      {
       "output_type": "stream",
       "stream": "stdout",
       "text": [
        "\n",
        "\tFound Emerald Ore at 398,   5, 365!"
       ]
      },
      {
       "output_type": "stream",
       "stream": "stdout",
       "text": [
        "\n",
        "\tFound Emerald Ore at 403,   7, 357!"
       ]
      },
      {
       "output_type": "stream",
       "stream": "stdout",
       "text": [
        "\n",
        "\tFound Emerald Ore at 404,   8, 372!"
       ]
      },
      {
       "output_type": "stream",
       "stream": "stdout",
       "text": [
        "\n",
        "\tFound Emerald Ore at 412,  12, 349!"
       ]
      },
      {
       "output_type": "stream",
       "stream": "stdout",
       "text": [
        "\n",
        "\tFound Emerald Ore at 413,  10, 370!"
       ]
      },
      {
       "output_type": "stream",
       "stream": "stdout",
       "text": [
        "\n",
        "\tFound Emerald Ore at 415,  12, 351!"
       ]
      },
      {
       "output_type": "stream",
       "stream": "stdout",
       "text": [
        "\n",
        "Finished in 24.15s (21712.3 blocks/s)"
       ]
      },
      {
       "output_type": "stream",
       "stream": "stdout",
       "text": [
        "\n",
        "{'Redstone Ore': 4895, 'Coal Ore': 6118, 'Gold Ore': 746, 'Emerald Ore': 7, 'Lapis Lazuli Ore': 390, 'Iron Ore': 3466, 'Diamond Ore': 607}\n"
       ]
      }
     ],
     "prompt_number": 36
    },
    {
     "cell_type": "heading",
     "level": 2,
     "metadata": {},
     "source": [
      "Old Silly Stuff Here"
     ]
    },
    {
     "cell_type": "code",
     "collapsed": false,
     "input": [
      "# durability by tool type\n",
      "durability = {\n",
      "              'diamond': 1562,\n",
      "              'iron'   : 251,\n",
      "              'stone'  : 132,\n",
      "              'wood'   : 60,\n",
      "              'gold'   : 33,\n",
      "}\n",
      "\n",
      "# sensible choices for the length of a side of the digging grid square\n",
      "common_lengths = [x for x in xrange(64) if x % 3 == 1]"
     ],
     "language": "python",
     "metadata": {},
     "outputs": [],
     "prompt_number": 17
    },
    {
     "cell_type": "code",
     "collapsed": false,
     "input": [
      "def block_count(n):\n",
      "    ''' Returns the blocks required to dig one grid layer of width n\n",
      "        Returns None if n is non-optimal size.\n",
      "    '''\n",
      "    if n % 3 == 1:\n",
      "         return (4 * n - 4) + (n - 2) * (int(n / 3) - 1)\n",
      "    else:\n",
      "        # n is non-optimal\n",
      "        return None\n"
     ],
     "language": "python",
     "metadata": {},
     "outputs": [],
     "prompt_number": 18
    },
    {
     "cell_type": "code",
     "collapsed": false,
     "input": [
      "# Optimal length of digging grid square\n",
      "# Constrained by number of layers (2 - to cover layers 5-12) without completely\n",
      "# consuming a diamond pick\n",
      "[x for x in common_lengths if durability['diamond'] / block_count(x) == 2]"
     ],
     "language": "python",
     "metadata": {},
     "outputs": [
      {
       "metadata": {},
       "output_type": "pyout",
       "prompt_number": 19,
       "text": [
        "[37, 40, 43]"
       ]
      }
     ],
     "prompt_number": 19
    },
    {
     "cell_type": "code",
     "collapsed": false,
     "input": [
      "# durability left over on the pick\n",
      "[(x, durability['diamond'] - block_count(x) * 2) for x in [37, 40, 43]]"
     ],
     "language": "python",
     "metadata": {},
     "outputs": [
      {
       "metadata": {},
       "output_type": "pyout",
       "prompt_number": 20,
       "text": [
        "[(37, 504), (40, 338), (43, 160)]"
       ]
      }
     ],
     "prompt_number": 20
    },
    {
     "cell_type": "code",
     "collapsed": false,
     "input": [
      "(43/16.0)**2 * 3.3"
     ],
     "language": "python",
     "metadata": {},
     "outputs": [
      {
       "metadata": {},
       "output_type": "pyout",
       "prompt_number": 21,
       "text": [
        "23.834765625"
       ]
      }
     ],
     "prompt_number": 21
    }
   ],
   "metadata": {}
  }
 ]
}