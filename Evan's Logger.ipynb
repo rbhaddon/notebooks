{
 "metadata": {
  "name": ""
 },
 "nbformat": 3,
 "nbformat_minor": 0,
 "worksheets": [
  {
   "cells": [
    {
     "cell_type": "code",
     "collapsed": false,
     "input": [
      "import logging\n",
      "import time\n",
      "import os.path"
     ],
     "language": "python",
     "metadata": {},
     "outputs": [],
     "prompt_number": 1
    },
    {
     "cell_type": "code",
     "collapsed": false,
     "input": [
      "class FooThing(object):\n",
      "    def __init__(self, logger=None):\n",
      "        self.logger = logger\n",
      "\n",
      "    def log(self, message, level='info'):\n",
      "        if self.logger:\n",
      "            log_targets = {'info': self.logger.info,\n",
      "                           'debug': self.logger.debug,\n",
      "                           'error': self.logger.error}\n",
      "            if level in log_targets:\n",
      "                log_targets[level](message)\n",
      "        else:\n",
      "            print(message)"
     ],
     "language": "python",
     "metadata": {},
     "outputs": [],
     "prompt_number": 2
    },
    {
     "cell_type": "code",
     "collapsed": false,
     "input": [
      "def set_logger(opts):\n",
      "    log_file = '/tmp/FooThing_%Y-%m-%d_%H_%M_%S.log'\n",
      "    #if opts.log:\n",
      "    #    file_, ext = os.path.splitext(opts.log)\n",
      "    #    file_ += '_%Y-%m-%d_%H_%M_%S'\n",
      "    #    log_file = file_ + ext\n",
      "    log_file = time.strftime(log_file, time.localtime())\n",
      "    logger = logging.getLogger('isi_km_stress_log')\n",
      "    logger.setLevel(logging.DEBUG)\n",
      "    loggerfh = logging.FileHandler(log_file)\n",
      "    loggerfh.setLevel(logging.INFO)\n",
      "    loggerch = logging.StreamHandler()\n",
      "    loggerch.setLevel(logging.ERROR)\n",
      "    loggerfh.setFormatter(logging.Formatter(\n",
      "        '%(asctime)s - %(levelname)s - %(message)s'))\n",
      "    logger.addHandler(loggerfh)\n",
      "    logger.addHandler(loggerch)\n",
      "    logger.info('Starting isi_km_d Signal Stress Test Run')\n",
      "    logger.info('Run Date: %s' % (time.strftime('%Y-%m-%d %H:%M:%S')))\n",
      "    #logger.info('Build Version: %s' % (misc.version()))\n",
      "    logger.info('=' * 80)\n",
      "    logger.info('')\n",
      "    return logger\n"
     ],
     "language": "python",
     "metadata": {},
     "outputs": [],
     "prompt_number": 3
    },
    {
     "cell_type": "code",
     "collapsed": false,
     "input": [
      "ft = FooThing(logger=set_logger(None))"
     ],
     "language": "python",
     "metadata": {},
     "outputs": [
      {
       "output_type": "stream",
       "stream": "stderr",
       "text": [
        "INFO:isi_km_stress_log:Starting isi_km_d Signal Stress Test Run\n"
       ]
      },
      {
       "output_type": "stream",
       "stream": "stderr",
       "text": [
        "INFO:isi_km_stress_log:Run Date: 2013-10-09 11:57:23\n"
       ]
      },
      {
       "output_type": "stream",
       "stream": "stderr",
       "text": [
        "INFO:isi_km_stress_log:================================================================================\n"
       ]
      },
      {
       "output_type": "stream",
       "stream": "stderr",
       "text": [
        "INFO:isi_km_stress_log:\n"
       ]
      }
     ],
     "prompt_number": 4
    },
    {
     "cell_type": "code",
     "collapsed": false,
     "input": [
      "ft.log(\"fooThing\")"
     ],
     "language": "python",
     "metadata": {},
     "outputs": [
      {
       "output_type": "stream",
       "stream": "stderr",
       "text": [
        "INFO:isi_km_stress_log:fooThing\n"
       ]
      }
     ],
     "prompt_number": 5
    }
   ],
   "metadata": {}
  }
 ]
}