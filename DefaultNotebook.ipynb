{
 "metadata": {
  "name": ""
 },
 "nbformat": 3,
 "nbformat_minor": 0,
 "worksheets": [
  {
   "cells": [
    {
     "cell_type": "code",
     "collapsed": false,
     "input": [
      "import matplotlib.pyplot as plt\n",
      "import numpy as np"
     ],
     "language": "python",
     "metadata": {},
     "outputs": [],
     "prompt_number": 80
    },
    {
     "cell_type": "code",
     "collapsed": false,
     "input": [
      "cd /home/rhaddon/wd/onefs.git/test/tests/audit"
     ],
     "language": "python",
     "metadata": {},
     "outputs": [
      {
       "output_type": "stream",
       "stream": "stdout",
       "text": [
        "/home/rhaddon/wd/onefs.git/test/tests/audit\n"
       ]
      }
     ],
     "prompt_number": 81
    },
    {
     "cell_type": "code",
     "collapsed": false,
     "input": [
      "run stress_analyze.py"
     ],
     "language": "python",
     "metadata": {},
     "outputs": [],
     "prompt_number": 82
    },
    {
     "cell_type": "code",
     "collapsed": false,
     "input": [
      "gl = gen_lines_from_file(\"/home/rhaddon/wd/onefs.git/test/tests/audit/foo.csv\")\n",
      "lists = gen_lists_from_csv(gl)\n",
      "stats = {}\n",
      "for list in lists:\n",
      "    if stats.has_key(list[1]):\n",
      "        stats[list[1]].append([list[0], list[5]])\n",
      "    else:\n",
      "        stats[list[1]] = [[list[0], list[5]]]"
     ],
     "language": "python",
     "metadata": {},
     "outputs": [],
     "prompt_number": 83
    },
    {
     "cell_type": "code",
     "collapsed": false,
     "input": [
      "audit_d_arr_t = np.array([x[0] for x in stats['isi_audit_d']])\n",
      "audit_d_arr_d = np.array([x[1] for x in stats['isi_audit_d']])\n",
      "plt.plot(audit_d_arr_t, audit_d_arr_d)\n",
      "plt.show()"
     ],
     "language": "python",
     "metadata": {},
     "outputs": [],
     "prompt_number": 84
    },
    {
     "cell_type": "code",
     "collapsed": false,
     "input": [],
     "language": "python",
     "metadata": {},
     "outputs": []
    }
   ],
   "metadata": {}
  }
 ]
}