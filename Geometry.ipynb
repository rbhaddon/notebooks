{
 "metadata": {
  "name": ""
 },
 "nbformat": 3,
 "nbformat_minor": 0,
 "worksheets": [
  {
   "cells": [
    {
     "cell_type": "code",
     "collapsed": false,
     "input": [
      "class Point(tuple):\n",
      "    def __new__(cls, *args):\n",
      "        if args:\n",
      "            return super(Point, cls).__new__(cls, tuple(args))\n",
      "        else:\n",
      "            return None\n",
      "        #return super(Point, cls).__new__(cls, tuple((x, y)))   \n",
      "        \n",
      "    def __init__(self, *args):\n",
      "        super(Point, self).__init__((args))\n",
      "        #super(Point, self).__init__(x, y)\n",
      "        self.x = args[0]\n",
      "        self.y = args[1]\n",
      "        self.z = None\n",
      "        try:\n",
      "            self.z = args[2]\n",
      "            self.type = '3d'\n",
      "        except IndexError:\n",
      "            self.type = '2d'\n",
      "            \n",
      "    def __repr__(self):\n",
      "        if self.type == '3d':\n",
      "            retval = '(x: {X}, y: {Y}, z: {Z})'.format(X=self.x, Y=self.y, Z=self.z)\n",
      "        else:\n",
      "            retval = '(x: {X}, y: {Y})'.format(X=self.x, Y=self.y)\n",
      "        return retval\n",
      "        \n",
      "class Rectangle(object):\n",
      "    def __init__(self, p1 = Point, p2 = Point):\n",
      "        self.p1 = p1\n",
      "        self.p2 = p2\n",
      "        self.box = (p1, p2)\n",
      "        \n",
      "    def contains(self, p = Point):\n",
      "        return (self.p1.x <= p.x <= self.p2.x) and (self.p1.y <= p.y <= self.p2.y)\n",
      "    \n",
      "            \n",
      "class Cuboid(Rectangle):\n",
      "    def __init__(self, p1 = Point, p2 = Point):\n",
      "        super(Cuboid, self).__init__(p1, p2)\n",
      "        \n",
      "    def contains(self, p = Point):\n",
      "        return super(Cuboid, self).contains(p) and (self.p1.z <= p.z <= self.p2.z)\n",
      "   "
     ],
     "language": "python",
     "metadata": {},
     "outputs": [],
     "prompt_number": 67
    },
    {
     "cell_type": "code",
     "collapsed": false,
     "input": [
      "p1 = Point(0, 0)\n",
      "p2 = Point(3, 2)\n",
      "r1 = Rectangle(p1, p2)\n",
      "print r1.box\n",
      "print r1.contains(Point(1,1))\n",
      "print r1.contains(Point(0, 2.2))"
     ],
     "language": "python",
     "metadata": {},
     "outputs": [
      {
       "output_type": "stream",
       "stream": "stdout",
       "text": [
        "((x: 0, y: 0), (x: 3, y: 2))\n",
        "True\n",
        "False\n"
       ]
      }
     ],
     "prompt_number": 61
    },
    {
     "cell_type": "code",
     "collapsed": false,
     "input": [
      "p3 = Point(1, 1, 1)\n",
      "p4 = Point(3, 4, 5)\n",
      "c1 = Cuboid(p3, p4)\n",
      "print c1.box\n",
      "print c1.contains(Point(1, 1, 3))\n",
      "print c1.contains(Point(4, 2, 2))"
     ],
     "language": "python",
     "metadata": {},
     "outputs": [
      {
       "output_type": "stream",
       "stream": "stdout",
       "text": [
        "((x: 1, y: 1, z: 1), (x: 3, y: 4, z: 5))\n",
        "True\n",
        "False\n"
       ]
      }
     ],
     "prompt_number": 62
    },
    {
     "cell_type": "code",
     "collapsed": false,
     "input": [
      "#poo = Point(2)\n",
      "poo = Point()"
     ],
     "language": "python",
     "metadata": {},
     "outputs": [],
     "prompt_number": 68
    },
    {
     "cell_type": "code",
     "collapsed": false,
     "input": [
      "print poo"
     ],
     "language": "python",
     "metadata": {},
     "outputs": [
      {
       "output_type": "stream",
       "stream": "stdout",
       "text": [
        "None\n"
       ]
      }
     ],
     "prompt_number": 69
    },
    {
     "cell_type": "code",
     "collapsed": false,
     "input": [],
     "language": "python",
     "metadata": {},
     "outputs": []
    }
   ],
   "metadata": {}
  }
 ]
}