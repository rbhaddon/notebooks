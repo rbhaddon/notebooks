{
 "metadata": {
  "name": ""
 },
 "nbformat": 3,
 "nbformat_minor": 0,
 "worksheets": [
  {
   "cells": [
    {
     "cell_type": "code",
     "collapsed": false,
     "input": [
      "def myzip(left, right):\n",
      "    l = iter(left)\n",
      "    r = iter(right)\n",
      "    while True:\n",
      "        yield(next(l), next(r))"
     ],
     "language": "python",
     "metadata": {},
     "outputs": [],
     "prompt_number": 21
    },
    {
     "cell_type": "code",
     "collapsed": false,
     "input": [
      "[x for x in myzip(\"one two three four\".split(), [1, 2, 3])]"
     ],
     "language": "python",
     "metadata": {},
     "outputs": [
      {
       "metadata": {},
       "output_type": "pyout",
       "prompt_number": 55,
       "text": [
        "[('one', 1), ('two', 2), ('three', 3)]"
       ]
      }
     ],
     "prompt_number": 55
    },
    {
     "cell_type": "code",
     "collapsed": false,
     "input": [
      "def coroutine(func):\n",
      "    def inner(*arg, **kwarg):\n",
      "        cr = func(*arg, **kwarg)\n",
      "        next(cr)\n",
      "        return cr\n",
      "    return inner"
     ],
     "language": "python",
     "metadata": {},
     "outputs": [],
     "prompt_number": 29
    },
    {
     "cell_type": "code",
     "collapsed": false,
     "input": [
      "@coroutine\n",
      "def cr_odd_even(dest_odd, dest_even):\n",
      "    index = 0\n",
      "    while True:\n",
      "        item = (yield)\n",
      "        if index % 2 == 0:\n",
      "            dest_even.send(item)\n",
      "        else:\n",
      "            dest_odd.send(item)\n",
      "        index += 1"
     ],
     "language": "python",
     "metadata": {},
     "outputs": [],
     "prompt_number": 48
    },
    {
     "cell_type": "code",
     "collapsed": false,
     "input": [
      "@coroutine\n",
      "def cr_printer(name):\n",
      "    while True:\n",
      "        item = (yield)\n",
      "        print \"{N} received {I}\".format(N=name, I=item)"
     ],
     "language": "python",
     "metadata": {},
     "outputs": [],
     "prompt_number": 49
    },
    {
     "cell_type": "code",
     "collapsed": false,
     "input": [
      "fan_out = cr_odd_even(cr_printer(\"odd\"), cr_printer(\"even\"))\n",
      "fan_out.send('toiletwater')"
     ],
     "language": "python",
     "metadata": {},
     "outputs": [
      {
       "output_type": "stream",
       "stream": "stdout",
       "text": [
        "even received toiletwater\n"
       ]
      }
     ],
     "prompt_number": 50
    },
    {
     "cell_type": "code",
     "collapsed": false,
     "input": [
      "fan_out = cr_odd_even(cr_printer(\"odd\"), cr_printer(\"even\"))\n",
      "for item in \"one two three four five\".split():\n",
      "    fan_out.send(item)"
     ],
     "language": "python",
     "metadata": {},
     "outputs": [
      {
       "output_type": "stream",
       "stream": "stdout",
       "text": [
        "even received one\n",
        "odd received two\n",
        "even received three\n",
        "odd received four\n",
        "even received five\n"
       ]
      }
     ],
     "prompt_number": 51
    },
    {
     "cell_type": "code",
     "collapsed": false,
     "input": [
      "fan_out = cr_odd_even(cr_printer(\"odd\"), cr_printer(\"even\"))\n",
      "for x in xrange(5):\n",
      "    fan_out.send(x)"
     ],
     "language": "python",
     "metadata": {},
     "outputs": [
      {
       "output_type": "stream",
       "stream": "stdout",
       "text": [
        "even received 0\n",
        "odd received 1\n",
        "even received 2\n",
        "odd received 3\n",
        "even received 4\n"
       ]
      }
     ],
     "prompt_number": 53
    },
    {
     "cell_type": "code",
     "collapsed": false,
     "input": [],
     "language": "python",
     "metadata": {},
     "outputs": []
    }
   ],
   "metadata": {}
  }
 ]
}