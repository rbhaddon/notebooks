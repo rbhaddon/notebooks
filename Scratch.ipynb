{
 "metadata": {
  "name": ""
 },
 "nbformat": 3,
 "nbformat_minor": 0,
 "worksheets": [
  {
   "cells": [
    {
     "cell_type": "markdown",
     "metadata": {},
     "source": [
      "Some examples of multi-line strings"
     ]
    },
    {
     "cell_type": "code",
     "collapsed": false,
     "input": [
      "foo = r\"\"\"This is the begining of foo.\n",
      "Foo is quite excellent, don't you argree?\n",
      "Last of the foo.\"\"\"\n",
      "\n",
      "print \"foo:\"\n",
      "print foo\n",
      "\n",
      "bar = (\"This is the begining of bar. \"\n",
      "       \"Indeed, bar is enjoying quite the wonderful middle as well. \"\n",
      "       \"But sadly, all good bars must close.\")\n",
      "\n",
      "print \"bar:\"\n",
      "print bar"
     ],
     "language": "python",
     "metadata": {},
     "outputs": []
    },
    {
     "cell_type": "markdown",
     "metadata": {},
     "source": [
      "Some weird 'fan out' coroutine stuff"
     ]
    },
    {
     "cell_type": "code",
     "collapsed": false,
     "input": [
      "def myzip(left, right):\n",
      "    l = iter(left)\n",
      "    r = iter(right)\n",
      "    while True:\n",
      "        yield(next(l), next(r))"
     ],
     "language": "python",
     "metadata": {},
     "outputs": []
    },
    {
     "cell_type": "code",
     "collapsed": false,
     "input": [
      "[x for x in myzip(\"one two three four\".split(), [1, 2, 3])]"
     ],
     "language": "python",
     "metadata": {},
     "outputs": []
    },
    {
     "cell_type": "code",
     "collapsed": false,
     "input": [
      "def coroutine(func):\n",
      "    def inner(*arg, **kwarg):\n",
      "        cr = func(*arg, **kwarg)\n",
      "        next(cr)\n",
      "        return cr\n",
      "    return inner"
     ],
     "language": "python",
     "metadata": {},
     "outputs": []
    },
    {
     "cell_type": "code",
     "collapsed": false,
     "input": [
      "@coroutine\n",
      "def cr_odd_even(dest_odd, dest_even):\n",
      "    index = 0\n",
      "    while True:\n",
      "        item = (yield)\n",
      "        if index % 2 == 0:\n",
      "            dest_even.send(item)\n",
      "        else:\n",
      "            dest_odd.send(item)\n",
      "        index += 1"
     ],
     "language": "python",
     "metadata": {},
     "outputs": []
    },
    {
     "cell_type": "code",
     "collapsed": false,
     "input": [
      "@coroutine\n",
      "def cr_printer(name):\n",
      "    while True:\n",
      "        item = (yield)\n",
      "        print \"{N} received {I}\".format(N=name, I=item)"
     ],
     "language": "python",
     "metadata": {},
     "outputs": []
    },
    {
     "cell_type": "code",
     "collapsed": false,
     "input": [
      "fan_out = cr_odd_even(cr_printer(\"odd\"), cr_printer(\"even\"))\n",
      "fan_out.send('toiletwater')"
     ],
     "language": "python",
     "metadata": {},
     "outputs": []
    },
    {
     "cell_type": "code",
     "collapsed": false,
     "input": [
      "fan_out = cr_odd_even(cr_printer(\"odd\"), cr_printer(\"even\"))\n",
      "for item in \"one two three four five\".split():\n",
      "    fan_out.send(item)"
     ],
     "language": "python",
     "metadata": {},
     "outputs": []
    },
    {
     "cell_type": "code",
     "collapsed": false,
     "input": [
      "fan_out = cr_odd_even(cr_printer(\"odd\"), cr_printer(\"even\"))\n",
      "for x in xrange(5):\n",
      "    fan_out.send(x)"
     ],
     "language": "python",
     "metadata": {},
     "outputs": []
    },
    {
     "cell_type": "code",
     "collapsed": false,
     "input": [],
     "language": "python",
     "metadata": {},
     "outputs": []
    }
   ],
   "metadata": {}
  }
 ]
}