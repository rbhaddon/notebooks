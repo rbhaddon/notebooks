{
 "metadata": {
  "name": ""
 },
 "nbformat": 3,
 "nbformat_minor": 0,
 "worksheets": [
  {
   "cells": [
    {
     "cell_type": "code",
     "collapsed": false,
     "input": [
      "import httplib\n",
      "import threading\n",
      "\n",
      "want_shutdown = False\n",
      "\n",
      "all_servers = ['http://seavee3.west.isilon.com:12228/vee']\n",
      "avail_servers = []"
     ],
     "language": "python",
     "metadata": {},
     "outputs": [],
     "prompt_number": 10
    },
    {
     "cell_type": "code",
     "collapsed": false,
     "input": [
      "class Worker(threading.Thread):\n",
      "    '''\n",
      "    An object for defining the worker functions for use with python threading module\n",
      "    '''\n",
      "    def __init__(self, group=None, target=None, name=None, args=(), kwargs=None):\n",
      "        threading.Thread.__init__(self, group=group, target=target, name=name)\n",
      "        self.target = target    # The worker function to spawn as a thread\n",
      "        self.daemon = bool(kwargs.get('daemon'))\n",
      "        self.name = name\n",
      "        self.args = args\n",
      "        self.kwargs = kwargs\n",
      "        return\n",
      "\n",
      "    def __repr__(self):\n",
      "        return \"Worker %s %s\" % (self.name, self.kwargs)\n",
      "\n",
      "    def run(self):\n",
      "        log.info(\"Thread %s is starting.\" % self.name)\n",
      "        self.target(self.kwargs)\n",
      "        log.info(\"Thread %s has stopped.\" % self.name)\n",
      "        return"
     ],
     "language": "python",
     "metadata": {},
     "outputs": [],
     "prompt_number": 11
    },
    {
     "cell_type": "code",
     "collapsed": false,
     "input": [
      "class HTTPServer(object):\n",
      "    \"\"\" Abstracts the parsing of URI strings for use with httplib \"\"\"\n",
      "    def __init__(self, url):\n",
      "        try:\n",
      "            (scheme, netloc, path, query, fragment) = httplib.urlsplit(url)\n",
      "        except Exception:\n",
      "            # Whatever the exception, we most likely received a bogus URL\n",
      "            self.protocol = None\n",
      "            self.netloc = None\n",
      "            self.path = None\n",
      "            return None\n",
      "        if not scheme == 'http':\n",
      "            print \"Rejecting\", url, \": unsupported protocol.\"\n",
      "            self.protocol = None\n",
      "            self.netloc = None\n",
      "            self.path = None\n",
      "            return None\n",
      "        if netloc == \"\":\n",
      "            print \"Rejecting\", url, \": malformed URL.\"\n",
      "            self.protocol = None\n",
      "            self.netloc = None\n",
      "            self.path = None\n",
      "            return None\n",
      "        # url seems good to use\n",
      "        self.protocol = scheme\n",
      "        self.netloc = netloc\n",
      "        self.path = path\n",
      "\n",
      "    def __repr__(self):\n",
      "        return \"%s://%s%s\" % (self.protocol, self.netloc, self.path)"
     ],
     "language": "python",
     "metadata": {},
     "outputs": [],
     "prompt_number": 12
    },
    {
     "cell_type": "code",
     "collapsed": false,
     "input": [
      "def make_servers(urlList):\t\n",
      "    \"\"\" Receives a list of URL, returns a list of HTTPServer objects \"\"\"\n",
      "\n",
      "    servers = []\n",
      "    for url in urlList:\n",
      "        s = HTTPServer(url)\n",
      "        if s.netloc is None:\n",
      "            # url was rejected\n",
      "            continue\n",
      "        servers.append(s)\n",
      "    return servers"
     ],
     "language": "python",
     "metadata": {},
     "outputs": [],
     "prompt_number": 13
    },
    {
     "cell_type": "code",
     "collapsed": false,
     "input": [
      "def heartbeater(kwargs):\n",
      "    \"\"\"\n",
      "    Worker thread for CEE heartbeats\n",
      "    \"\"\"\n",
      "    global avail_servers\n",
      "    global all_servers\n",
      "    \n",
      "    hb= r'<CheckFileRequest><Args action=\"9\" name=\"dABlAHMAdABoAG8AcwB0AA==\" sourceID=\"2\" sourceIP=\"10.7.216.141\"/></CheckFileRequest>'\n",
      "\n",
      "    send_hb_to_cee = lambda dest: send_to_cee(dest, hb)\n",
      "\n",
      "    # This is a daemon type thread, it will die when the main process exits\n",
      "    while not want_shutdown:\n",
      "        avail_servers = filter(send_hb_to_cee, all_servers)\n",
      "        print \"heartbeater: available servers: %s\" % self.avail_servers\n",
      "        time.sleep(10)\n",
      "    return\n"
     ],
     "language": "python",
     "metadata": {},
     "outputs": [],
     "prompt_number": 14
    },
    {
     "cell_type": "code",
     "collapsed": false,
     "input": [
      "servers = make_servers(all_servers)\n",
      "servers"
     ],
     "language": "python",
     "metadata": {},
     "outputs": [
      {
       "metadata": {},
       "output_type": "pyout",
       "prompt_number": 15,
       "text": [
        "[http://seavee3.west.isilon.com:12228/vee]"
       ]
      }
     ],
     "prompt_number": 15
    },
    {
     "cell_type": "code",
     "collapsed": false,
     "input": [
      "def send_to_cee(url, payload, timeout=10):\n",
      "    \"\"\"\n",
      "    Send payload to url via HTTP.  Returns True on success, False otherwise.\n",
      "    \"\"\"\n",
      "    header = {'Content-Type': 'text/xml', 'Content-Length': '%d' % len(payload)}\n",
      "    parsed_response = None\n",
      "    try:\n",
      "        conn = httplib.HTTPConnection(host=url.netloc, timeout=timeout)\n",
      "        conn.request(method='PUT', url=url.path, body=payload, headers=header)\n",
      "        result = conn.getresponse()\n",
      "        success = True\n",
      "    #except (httplib.HTTPException, socket.gaierror, socket.error) as err:\n",
      "    except Exception:\n",
      "        success = False\n",
      "    # HTTP request succeeded; check if payload was accepted\n",
      "    if success:\n",
      "        #sys.stderr.write(\"DEBUG: status: %s\" % result.read())\n",
      "        success = True if result.status == 200 else False\n",
      "        parsed_response = parse_CheckFileResponse(result.read())\n",
      "    #sys.stderr.write(\"DEBUG: parsed_response: %s\\n\" % parsed_response)\n",
      "    return success and (parsed_response == 0)"
     ],
     "language": "python",
     "metadata": {},
     "outputs": [],
     "prompt_number": 16
    },
    {
     "cell_type": "code",
     "collapsed": false,
     "input": [],
     "language": "python",
     "metadata": {},
     "outputs": []
    }
   ],
   "metadata": {}
  }
 ]
}