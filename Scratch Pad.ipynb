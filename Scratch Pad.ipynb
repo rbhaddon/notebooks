{
 "metadata": {
  "name": ""
 },
 "nbformat": 3,
 "nbformat_minor": 0,
 "worksheets": [
  {
   "cells": [
    {
     "cell_type": "code",
     "collapsed": false,
     "input": [
      "def future_value(present_value, annual_rate, periods_per_year, years):\n",
      "    rate_per_period = annual_rate / periods_per_year\n",
      "    periods = periods_per_year * years\n",
      "    \n",
      "    # Put your code here.\n",
      "    return present_value * (1 + rate_per_period)**periods\n",
      "\n",
      "print \"$1000 at 2% compounded daily for 3 years yields $\", future_value(1000, .02, 365, 3)\n",
      "future_value(500, .04, 10, 10)"
     ],
     "language": "python",
     "metadata": {},
     "outputs": []
    },
    {
     "cell_type": "code",
     "collapsed": false,
     "input": [
      "import math\n",
      "def regular_polygon_area(num_sides, side_len):\n",
      "    return 0.25 * num_sides * side_len**2 / math.tan(math.pi/num_sides)"
     ],
     "language": "python",
     "metadata": {},
     "outputs": [],
     "prompt_number": 14
    },
    {
     "cell_type": "code",
     "collapsed": false,
     "input": [
      "regular_polygon_area(7, 3)"
     ],
     "language": "python",
     "metadata": {},
     "outputs": [
      {
       "metadata": {},
       "output_type": "pyout",
       "prompt_number": 15,
       "text": [
        "32.705211996014306"
       ]
      }
     ],
     "prompt_number": 15
    },
    {
     "cell_type": "code",
     "collapsed": false,
     "input": [
      "def max_of_2(a, b):\n",
      "    if a > b:\n",
      "        return a\n",
      "    else:\n",
      "        return b\n",
      "    \n",
      "def max_of_3(a, b, c):\n",
      "    return max_of_2(a, max_of_2(b, c))\n",
      "\n",
      "max_of_3(3,4,5)"
     ],
     "language": "python",
     "metadata": {},
     "outputs": []
    },
    {
     "cell_type": "code",
     "collapsed": false,
     "input": [
      "from collections import namedtuple\n",
      "import math\n",
      "Point = namedtuple(\"Point\", (\"x\", \"y\"))\n",
      "def project_to_distance(point, distance):\n",
      "    dist_to_origin = math.sqrt(point.x**2 + point.y**2)    \n",
      "    scale = distance / dist_to_origin\n",
      "    return (point.x * scale, point.y * scale)\n",
      "    \n",
      "print project_to_distance(Point(2, 7), 4)"
     ],
     "language": "python",
     "metadata": {},
     "outputs": [
      {
       "output_type": "stream",
       "stream": "stdout",
       "text": [
        "(1.0988845115895123, 3.846095790563293)\n"
       ]
      }
     ],
     "prompt_number": 11
    },
    {
     "cell_type": "code",
     "collapsed": false,
     "input": [],
     "language": "python",
     "metadata": {},
     "outputs": []
    }
   ],
   "metadata": {}
  }
 ]
}